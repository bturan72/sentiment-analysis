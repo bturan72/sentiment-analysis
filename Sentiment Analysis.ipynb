{
 "cells": [
  {
   "cell_type": "markdown",
   "id": "fb8d93c2",
   "metadata": {},
   "source": [
    "## 1. Reading and Cleaning Data"
   ]
  },
  {
   "cell_type": "code",
   "execution_count": 1,
   "id": "21abc209",
   "metadata": {},
   "outputs": [],
   "source": [
    "import pandas as pd\n",
    "import numpy as np\n",
    "import matplotlib.pyplot as plt"
   ]
  },
  {
   "cell_type": "code",
   "execution_count": 2,
   "id": "b06d3690",
   "metadata": {},
   "outputs": [
    {
     "name": "stderr",
     "output_type": "stream",
     "text": [
      "/var/folders/11/cxk41wc10_xff4v0c3jx2bb80000gn/T/ipykernel_11258/3967909716.py:1: DtypeWarning: Columns (0,1,3) have mixed types. Specify dtype option on import or set low_memory=False.\n",
      "  df = pd.read_csv('New_York_reviews.csv')\n"
     ]
    },
    {
     "data": {
      "text/html": [
       "<div>\n",
       "<style scoped>\n",
       "    .dataframe tbody tr th:only-of-type {\n",
       "        vertical-align: middle;\n",
       "    }\n",
       "\n",
       "    .dataframe tbody tr th {\n",
       "        vertical-align: top;\n",
       "    }\n",
       "\n",
       "    .dataframe thead th {\n",
       "        text-align: right;\n",
       "    }\n",
       "</style>\n",
       "<table border=\"1\" class=\"dataframe\">\n",
       "  <thead>\n",
       "    <tr style=\"text-align: right;\">\n",
       "      <th></th>\n",
       "      <th>Unnamed: 0</th>\n",
       "      <th>parse_count</th>\n",
       "      <th>restaurant_name</th>\n",
       "      <th>rating_review</th>\n",
       "      <th>sample</th>\n",
       "      <th>review_id</th>\n",
       "      <th>title_review</th>\n",
       "      <th>review_preview</th>\n",
       "      <th>review_full</th>\n",
       "      <th>date</th>\n",
       "      <th>city</th>\n",
       "      <th>url_restaurant</th>\n",
       "      <th>author_id</th>\n",
       "    </tr>\n",
       "  </thead>\n",
       "  <tbody>\n",
       "    <tr>\n",
       "      <th>0</th>\n",
       "      <td>1</td>\n",
       "      <td>2</td>\n",
       "      <td>Lido</td>\n",
       "      <td>5</td>\n",
       "      <td>Positive</td>\n",
       "      <td>review_773559838</td>\n",
       "      <td>A Regular Treat</td>\n",
       "      <td>My wife and I have been eating dinner frequent...</td>\n",
       "      <td>My wife and I have been eating dinner frequent...</td>\n",
       "      <td>October 8, 2020</td>\n",
       "      <td>New_York_City_New_York</td>\n",
       "      <td>https://www.tripadvisor.com/Restaurant_Review-...</td>\n",
       "      <td>UID_0</td>\n",
       "    </tr>\n",
       "    <tr>\n",
       "      <th>1</th>\n",
       "      <td>2</td>\n",
       "      <td>3</td>\n",
       "      <td>Lido</td>\n",
       "      <td>4</td>\n",
       "      <td>Positive</td>\n",
       "      <td>review_769429529</td>\n",
       "      <td>Good neighborhood spot!</td>\n",
       "      <td>Came with family for Labor Day weekend brunch ...</td>\n",
       "      <td>Came with family for Labor Day weekend brunch ...</td>\n",
       "      <td>September 8, 2020</td>\n",
       "      <td>New_York_City_New_York</td>\n",
       "      <td>https://www.tripadvisor.com/Restaurant_Review-...</td>\n",
       "      <td>UID_1</td>\n",
       "    </tr>\n",
       "    <tr>\n",
       "      <th>2</th>\n",
       "      <td>3</td>\n",
       "      <td>4</td>\n",
       "      <td>Lido</td>\n",
       "      <td>1</td>\n",
       "      <td>Negative</td>\n",
       "      <td>review_745700258</td>\n",
       "      <td>Disappointing</td>\n",
       "      <td>Food was mediocre at best.  The lamb chops are...</td>\n",
       "      <td>Food was mediocre at best. The lamb chops are ...</td>\n",
       "      <td>February 17, 2020</td>\n",
       "      <td>New_York_City_New_York</td>\n",
       "      <td>https://www.tripadvisor.com/Restaurant_Review-...</td>\n",
       "      <td>UID_2</td>\n",
       "    </tr>\n",
       "    <tr>\n",
       "      <th>3</th>\n",
       "      <td>4</td>\n",
       "      <td>5</td>\n",
       "      <td>Lido</td>\n",
       "      <td>5</td>\n",
       "      <td>Positive</td>\n",
       "      <td>review_728859349</td>\n",
       "      <td>What a find in Harlem</td>\n",
       "      <td>My co-workers were volunteering at a foodbank ...</td>\n",
       "      <td>My co-workers were volunteering at a foodbank ...</td>\n",
       "      <td>November 25, 2019</td>\n",
       "      <td>New_York_City_New_York</td>\n",
       "      <td>https://www.tripadvisor.com/Restaurant_Review-...</td>\n",
       "      <td>UID_3</td>\n",
       "    </tr>\n",
       "    <tr>\n",
       "      <th>4</th>\n",
       "      <td>5</td>\n",
       "      <td>6</td>\n",
       "      <td>Lido</td>\n",
       "      <td>5</td>\n",
       "      <td>Positive</td>\n",
       "      <td>review_728429643</td>\n",
       "      <td>Lunch</td>\n",
       "      <td>Lido is an intimate boutique style restaurant....</td>\n",
       "      <td>Lido is an intimate boutique style restaurant....</td>\n",
       "      <td>November 23, 2019</td>\n",
       "      <td>New_York_City_New_York</td>\n",
       "      <td>https://www.tripadvisor.com/Restaurant_Review-...</td>\n",
       "      <td>UID_4</td>\n",
       "    </tr>\n",
       "  </tbody>\n",
       "</table>\n",
       "</div>"
      ],
      "text/plain": [
       "  Unnamed: 0 parse_count restaurant_name rating_review    sample  \\\n",
       "0          1           2            Lido             5  Positive   \n",
       "1          2           3            Lido             4  Positive   \n",
       "2          3           4            Lido             1  Negative   \n",
       "3          4           5            Lido             5  Positive   \n",
       "4          5           6            Lido             5  Positive   \n",
       "\n",
       "          review_id             title_review  \\\n",
       "0  review_773559838          A Regular Treat   \n",
       "1  review_769429529  Good neighborhood spot!   \n",
       "2  review_745700258            Disappointing   \n",
       "3  review_728859349    What a find in Harlem   \n",
       "4  review_728429643                    Lunch   \n",
       "\n",
       "                                      review_preview  \\\n",
       "0  My wife and I have been eating dinner frequent...   \n",
       "1  Came with family for Labor Day weekend brunch ...   \n",
       "2  Food was mediocre at best.  The lamb chops are...   \n",
       "3  My co-workers were volunteering at a foodbank ...   \n",
       "4  Lido is an intimate boutique style restaurant....   \n",
       "\n",
       "                                         review_full               date  \\\n",
       "0  My wife and I have been eating dinner frequent...    October 8, 2020   \n",
       "1  Came with family for Labor Day weekend brunch ...  September 8, 2020   \n",
       "2  Food was mediocre at best. The lamb chops are ...  February 17, 2020   \n",
       "3  My co-workers were volunteering at a foodbank ...  November 25, 2019   \n",
       "4  Lido is an intimate boutique style restaurant....  November 23, 2019   \n",
       "\n",
       "                     city                                     url_restaurant  \\\n",
       "0  New_York_City_New_York  https://www.tripadvisor.com/Restaurant_Review-...   \n",
       "1  New_York_City_New_York  https://www.tripadvisor.com/Restaurant_Review-...   \n",
       "2  New_York_City_New_York  https://www.tripadvisor.com/Restaurant_Review-...   \n",
       "3  New_York_City_New_York  https://www.tripadvisor.com/Restaurant_Review-...   \n",
       "4  New_York_City_New_York  https://www.tripadvisor.com/Restaurant_Review-...   \n",
       "\n",
       "  author_id  \n",
       "0     UID_0  \n",
       "1     UID_1  \n",
       "2     UID_2  \n",
       "3     UID_3  \n",
       "4     UID_4  "
      ]
     },
     "execution_count": 2,
     "metadata": {},
     "output_type": "execute_result"
    }
   ],
   "source": [
    "df = pd.read_csv('New_York_reviews.csv')\n",
    "df.head()"
   ]
  },
  {
   "cell_type": "code",
   "execution_count": 3,
   "id": "18e02b78",
   "metadata": {},
   "outputs": [
    {
     "name": "stdout",
     "output_type": "stream",
     "text": [
      "<class 'pandas.core.frame.DataFrame'>\n",
      "RangeIndex: 510463 entries, 0 to 510462\n",
      "Data columns (total 13 columns):\n",
      " #   Column           Non-Null Count   Dtype \n",
      "---  ------           --------------   ----- \n",
      " 0   Unnamed: 0       510463 non-null  object\n",
      " 1   parse_count      510463 non-null  object\n",
      " 2   restaurant_name  510463 non-null  object\n",
      " 3   rating_review    510463 non-null  object\n",
      " 4   sample           510463 non-null  object\n",
      " 5   review_id        510463 non-null  object\n",
      " 6   title_review     510462 non-null  object\n",
      " 7   review_preview   510462 non-null  object\n",
      " 8   review_full      510461 non-null  object\n",
      " 9   date             510461 non-null  object\n",
      " 10  city             510461 non-null  object\n",
      " 11  url_restaurant   510461 non-null  object\n",
      " 12  author_id        510461 non-null  object\n",
      "dtypes: object(13)\n",
      "memory usage: 50.6+ MB\n"
     ]
    }
   ],
   "source": [
    "df.info()"
   ]
  },
  {
   "cell_type": "code",
   "execution_count": 4,
   "id": "ac5c9cf4",
   "metadata": {
    "scrolled": true
   },
   "outputs": [
    {
     "data": {
      "text/plain": [
       "5                         227762\n",
       "4                         138785\n",
       "3                          46988\n",
       "5                          31210\n",
       "4                          22006\n",
       "2                          17553\n",
       "1                          13839\n",
       "3                           7356\n",
       "2                           2759\n",
       "1                           2204\n",
       "New_York_City_New_York         1\n",
       "Name: rating_review, dtype: int64"
      ]
     },
     "execution_count": 4,
     "metadata": {},
     "output_type": "execute_result"
    }
   ],
   "source": [
    "df['rating_review'].value_counts()"
   ]
  },
  {
   "cell_type": "code",
   "execution_count": 5,
   "id": "ec2207f5",
   "metadata": {},
   "outputs": [
    {
     "data": {
      "text/html": [
       "<div>\n",
       "<style scoped>\n",
       "    .dataframe tbody tr th:only-of-type {\n",
       "        vertical-align: middle;\n",
       "    }\n",
       "\n",
       "    .dataframe tbody tr th {\n",
       "        vertical-align: top;\n",
       "    }\n",
       "\n",
       "    .dataframe thead th {\n",
       "        text-align: right;\n",
       "    }\n",
       "</style>\n",
       "<table border=\"1\" class=\"dataframe\">\n",
       "  <thead>\n",
       "    <tr style=\"text-align: right;\">\n",
       "      <th></th>\n",
       "      <th>rating_review</th>\n",
       "      <th>review_full</th>\n",
       "    </tr>\n",
       "  </thead>\n",
       "  <tbody>\n",
       "    <tr>\n",
       "      <th>0</th>\n",
       "      <td>5</td>\n",
       "      <td>My wife and I have been eating dinner frequent...</td>\n",
       "    </tr>\n",
       "    <tr>\n",
       "      <th>1</th>\n",
       "      <td>4</td>\n",
       "      <td>Came with family for Labor Day weekend brunch ...</td>\n",
       "    </tr>\n",
       "    <tr>\n",
       "      <th>2</th>\n",
       "      <td>1</td>\n",
       "      <td>Food was mediocre at best. The lamb chops are ...</td>\n",
       "    </tr>\n",
       "    <tr>\n",
       "      <th>3</th>\n",
       "      <td>5</td>\n",
       "      <td>My co-workers were volunteering at a foodbank ...</td>\n",
       "    </tr>\n",
       "    <tr>\n",
       "      <th>4</th>\n",
       "      <td>5</td>\n",
       "      <td>Lido is an intimate boutique style restaurant....</td>\n",
       "    </tr>\n",
       "  </tbody>\n",
       "</table>\n",
       "</div>"
      ],
      "text/plain": [
       "  rating_review                                        review_full\n",
       "0             5  My wife and I have been eating dinner frequent...\n",
       "1             4  Came with family for Labor Day weekend brunch ...\n",
       "2             1  Food was mediocre at best. The lamb chops are ...\n",
       "3             5  My co-workers were volunteering at a foodbank ...\n",
       "4             5  Lido is an intimate boutique style restaurant...."
      ]
     },
     "execution_count": 5,
     "metadata": {},
     "output_type": "execute_result"
    }
   ],
   "source": [
    "df = df[['rating_review', 'review_full']]\n",
    "df.head()"
   ]
  },
  {
   "cell_type": "code",
   "execution_count": 6,
   "id": "e36960c9",
   "metadata": {},
   "outputs": [],
   "source": [
    "# droping a row that df['rating_review']='New_York_City_New_York'\n",
    "df = df.drop(df['rating_review'].loc[df['rating_review']=='New_York_City_New_York'].index)"
   ]
  },
  {
   "cell_type": "code",
   "execution_count": 7,
   "id": "3d61ce83",
   "metadata": {},
   "outputs": [
    {
     "data": {
      "text/plain": [
       "5    227762\n",
       "4    138785\n",
       "3     46988\n",
       "5     31210\n",
       "4     22006\n",
       "2     17553\n",
       "1     13839\n",
       "3      7356\n",
       "2      2759\n",
       "1      2204\n",
       "Name: rating_review, dtype: int64"
      ]
     },
     "execution_count": 7,
     "metadata": {},
     "output_type": "execute_result"
    }
   ],
   "source": [
    "df.rating_review.value_counts()"
   ]
  },
  {
   "cell_type": "code",
   "execution_count": 8,
   "id": "4595ace8",
   "metadata": {},
   "outputs": [],
   "source": [
    "df['rating_review']= pd.to_numeric(df['rating_review'])"
   ]
  },
  {
   "cell_type": "code",
   "execution_count": 9,
   "id": "b7866f88",
   "metadata": {},
   "outputs": [
    {
     "data": {
      "text/plain": [
       "5    258972\n",
       "4    160791\n",
       "3     54344\n",
       "2     20312\n",
       "1     16043\n",
       "Name: rating_review, dtype: int64"
      ]
     },
     "execution_count": 9,
     "metadata": {},
     "output_type": "execute_result"
    }
   ],
   "source": [
    "df.rating_review.value_counts()"
   ]
  },
  {
   "cell_type": "code",
   "execution_count": 10,
   "id": "792ff4dd",
   "metadata": {},
   "outputs": [],
   "source": [
    "df['review_full'] = df['review_full'].astype(str)"
   ]
  },
  {
   "cell_type": "code",
   "execution_count": 11,
   "id": "a89d3bc5",
   "metadata": {},
   "outputs": [
    {
     "name": "stdout",
     "output_type": "stream",
     "text": [
      "(510462,)\n",
      "(510462,)\n"
     ]
    }
   ],
   "source": [
    "X = df.review_full\n",
    "y = df.rating_review\n",
    "print(X.shape)\n",
    "print(y.shape)"
   ]
  },
  {
   "cell_type": "code",
   "execution_count": 12,
   "id": "34b454e0",
   "metadata": {},
   "outputs": [
    {
     "name": "stdout",
     "output_type": "stream",
     "text": [
      "(382846,)\n",
      "(127616,)\n",
      "(382846,)\n",
      "(127616,)\n"
     ]
    }
   ],
   "source": [
    "# split X and y into training and testing sets\n",
    "from sklearn.model_selection import train_test_split\n",
    "X_train, X_test, y_train, y_test = train_test_split(X, y, test_size=0.25, random_state=123)\n",
    "print(X_train.shape)\n",
    "print(X_test.shape)\n",
    "print(y_train.shape)\n",
    "print(y_test.shape)"
   ]
  },
  {
   "cell_type": "markdown",
   "id": "97e0293d",
   "metadata": {},
   "source": [
    "## 2. Vectorizing the dataset"
   ]
  },
  {
   "cell_type": "code",
   "execution_count": 13,
   "id": "7d66c2cf",
   "metadata": {},
   "outputs": [],
   "source": [
    "from sklearn.feature_extraction.text import TfidfVectorizer\n",
    "tfidf_1 = TfidfVectorizer()"
   ]
  },
  {
   "cell_type": "code",
   "execution_count": 14,
   "id": "13f47e52",
   "metadata": {},
   "outputs": [
    {
     "data": {
      "text/plain": [
       "<382846x109698 sparse matrix of type '<class 'numpy.float64'>'\n",
       "\twith 21485371 stored elements in Compressed Sparse Row format>"
      ]
     },
     "execution_count": 14,
     "metadata": {},
     "output_type": "execute_result"
    }
   ],
   "source": [
    "# Learning training data vocabulary, and use to transform X_train to document-term matrix\n",
    "\n",
    "X_train_dtm = tfidf_1.fit_transform(X_train)\n",
    "X_train_dtm"
   ]
  },
  {
   "cell_type": "code",
   "execution_count": 15,
   "id": "bf36762c",
   "metadata": {
    "scrolled": true
   },
   "outputs": [
    {
     "data": {
      "text/plain": [
       "<127616x109698 sparse matrix of type '<class 'numpy.float64'>'\n",
       "\twith 7147220 stored elements in Compressed Sparse Row format>"
      ]
     },
     "execution_count": 15,
     "metadata": {},
     "output_type": "execute_result"
    }
   ],
   "source": [
    "X_test_dtm = tfidf_1.transform(X_test)\n",
    "X_test_dtm"
   ]
  },
  {
   "cell_type": "code",
   "execution_count": 16,
   "id": "dd31dcdd",
   "metadata": {},
   "outputs": [
    {
     "data": {
      "text/html": [
       "<div>\n",
       "<style scoped>\n",
       "    .dataframe tbody tr th:only-of-type {\n",
       "        vertical-align: middle;\n",
       "    }\n",
       "\n",
       "    .dataframe tbody tr th {\n",
       "        vertical-align: top;\n",
       "    }\n",
       "\n",
       "    .dataframe thead th {\n",
       "        text-align: right;\n",
       "    }\n",
       "</style>\n",
       "<table border=\"1\" class=\"dataframe\">\n",
       "  <thead>\n",
       "    <tr style=\"text-align: right;\">\n",
       "      <th></th>\n",
       "      <th>00</th>\n",
       "      <th>000</th>\n",
       "      <th>0000</th>\n",
       "      <th>00000027</th>\n",
       "      <th>000075</th>\n",
       "      <th>0007</th>\n",
       "      <th>000c</th>\n",
       "      <th>000k</th>\n",
       "      <th>000km</th>\n",
       "      <th>000s</th>\n",
       "      <th>...</th>\n",
       "      <th>ｏｆ</th>\n",
       "      <th>ｏｖｅｒｈｅａｄ</th>\n",
       "      <th>ｐｏｉｎｔ</th>\n",
       "      <th>ｒｏｃｋ</th>\n",
       "      <th>ｓｉｄｅ</th>\n",
       "      <th>ｔｈｅ</th>\n",
       "      <th>ｔｏ</th>\n",
       "      <th>ｔｗｏ</th>\n",
       "      <th>ｗｈｅｒｅ</th>\n",
       "      <th>ｗｏｒｄｓ</th>\n",
       "    </tr>\n",
       "  </thead>\n",
       "  <tbody>\n",
       "    <tr>\n",
       "      <th>0</th>\n",
       "      <td>0.0</td>\n",
       "      <td>0.0</td>\n",
       "      <td>0.0</td>\n",
       "      <td>0.0</td>\n",
       "      <td>0.0</td>\n",
       "      <td>0.0</td>\n",
       "      <td>0.0</td>\n",
       "      <td>0.0</td>\n",
       "      <td>0.0</td>\n",
       "      <td>0.0</td>\n",
       "      <td>...</td>\n",
       "      <td>0.0</td>\n",
       "      <td>0.0</td>\n",
       "      <td>0.0</td>\n",
       "      <td>0.0</td>\n",
       "      <td>0.0</td>\n",
       "      <td>0.0</td>\n",
       "      <td>0.0</td>\n",
       "      <td>0.0</td>\n",
       "      <td>0.0</td>\n",
       "      <td>0.0</td>\n",
       "    </tr>\n",
       "    <tr>\n",
       "      <th>1</th>\n",
       "      <td>0.0</td>\n",
       "      <td>0.0</td>\n",
       "      <td>0.0</td>\n",
       "      <td>0.0</td>\n",
       "      <td>0.0</td>\n",
       "      <td>0.0</td>\n",
       "      <td>0.0</td>\n",
       "      <td>0.0</td>\n",
       "      <td>0.0</td>\n",
       "      <td>0.0</td>\n",
       "      <td>...</td>\n",
       "      <td>0.0</td>\n",
       "      <td>0.0</td>\n",
       "      <td>0.0</td>\n",
       "      <td>0.0</td>\n",
       "      <td>0.0</td>\n",
       "      <td>0.0</td>\n",
       "      <td>0.0</td>\n",
       "      <td>0.0</td>\n",
       "      <td>0.0</td>\n",
       "      <td>0.0</td>\n",
       "    </tr>\n",
       "    <tr>\n",
       "      <th>2</th>\n",
       "      <td>0.0</td>\n",
       "      <td>0.0</td>\n",
       "      <td>0.0</td>\n",
       "      <td>0.0</td>\n",
       "      <td>0.0</td>\n",
       "      <td>0.0</td>\n",
       "      <td>0.0</td>\n",
       "      <td>0.0</td>\n",
       "      <td>0.0</td>\n",
       "      <td>0.0</td>\n",
       "      <td>...</td>\n",
       "      <td>0.0</td>\n",
       "      <td>0.0</td>\n",
       "      <td>0.0</td>\n",
       "      <td>0.0</td>\n",
       "      <td>0.0</td>\n",
       "      <td>0.0</td>\n",
       "      <td>0.0</td>\n",
       "      <td>0.0</td>\n",
       "      <td>0.0</td>\n",
       "      <td>0.0</td>\n",
       "    </tr>\n",
       "    <tr>\n",
       "      <th>3</th>\n",
       "      <td>0.0</td>\n",
       "      <td>0.0</td>\n",
       "      <td>0.0</td>\n",
       "      <td>0.0</td>\n",
       "      <td>0.0</td>\n",
       "      <td>0.0</td>\n",
       "      <td>0.0</td>\n",
       "      <td>0.0</td>\n",
       "      <td>0.0</td>\n",
       "      <td>0.0</td>\n",
       "      <td>...</td>\n",
       "      <td>0.0</td>\n",
       "      <td>0.0</td>\n",
       "      <td>0.0</td>\n",
       "      <td>0.0</td>\n",
       "      <td>0.0</td>\n",
       "      <td>0.0</td>\n",
       "      <td>0.0</td>\n",
       "      <td>0.0</td>\n",
       "      <td>0.0</td>\n",
       "      <td>0.0</td>\n",
       "    </tr>\n",
       "    <tr>\n",
       "      <th>4</th>\n",
       "      <td>0.0</td>\n",
       "      <td>0.0</td>\n",
       "      <td>0.0</td>\n",
       "      <td>0.0</td>\n",
       "      <td>0.0</td>\n",
       "      <td>0.0</td>\n",
       "      <td>0.0</td>\n",
       "      <td>0.0</td>\n",
       "      <td>0.0</td>\n",
       "      <td>0.0</td>\n",
       "      <td>...</td>\n",
       "      <td>0.0</td>\n",
       "      <td>0.0</td>\n",
       "      <td>0.0</td>\n",
       "      <td>0.0</td>\n",
       "      <td>0.0</td>\n",
       "      <td>0.0</td>\n",
       "      <td>0.0</td>\n",
       "      <td>0.0</td>\n",
       "      <td>0.0</td>\n",
       "      <td>0.0</td>\n",
       "    </tr>\n",
       "    <tr>\n",
       "      <th>...</th>\n",
       "      <td>...</td>\n",
       "      <td>...</td>\n",
       "      <td>...</td>\n",
       "      <td>...</td>\n",
       "      <td>...</td>\n",
       "      <td>...</td>\n",
       "      <td>...</td>\n",
       "      <td>...</td>\n",
       "      <td>...</td>\n",
       "      <td>...</td>\n",
       "      <td>...</td>\n",
       "      <td>...</td>\n",
       "      <td>...</td>\n",
       "      <td>...</td>\n",
       "      <td>...</td>\n",
       "      <td>...</td>\n",
       "      <td>...</td>\n",
       "      <td>...</td>\n",
       "      <td>...</td>\n",
       "      <td>...</td>\n",
       "      <td>...</td>\n",
       "    </tr>\n",
       "    <tr>\n",
       "      <th>382841</th>\n",
       "      <td>0.0</td>\n",
       "      <td>0.0</td>\n",
       "      <td>0.0</td>\n",
       "      <td>0.0</td>\n",
       "      <td>0.0</td>\n",
       "      <td>0.0</td>\n",
       "      <td>0.0</td>\n",
       "      <td>0.0</td>\n",
       "      <td>0.0</td>\n",
       "      <td>0.0</td>\n",
       "      <td>...</td>\n",
       "      <td>0.0</td>\n",
       "      <td>0.0</td>\n",
       "      <td>0.0</td>\n",
       "      <td>0.0</td>\n",
       "      <td>0.0</td>\n",
       "      <td>0.0</td>\n",
       "      <td>0.0</td>\n",
       "      <td>0.0</td>\n",
       "      <td>0.0</td>\n",
       "      <td>0.0</td>\n",
       "    </tr>\n",
       "    <tr>\n",
       "      <th>382842</th>\n",
       "      <td>0.0</td>\n",
       "      <td>0.0</td>\n",
       "      <td>0.0</td>\n",
       "      <td>0.0</td>\n",
       "      <td>0.0</td>\n",
       "      <td>0.0</td>\n",
       "      <td>0.0</td>\n",
       "      <td>0.0</td>\n",
       "      <td>0.0</td>\n",
       "      <td>0.0</td>\n",
       "      <td>...</td>\n",
       "      <td>0.0</td>\n",
       "      <td>0.0</td>\n",
       "      <td>0.0</td>\n",
       "      <td>0.0</td>\n",
       "      <td>0.0</td>\n",
       "      <td>0.0</td>\n",
       "      <td>0.0</td>\n",
       "      <td>0.0</td>\n",
       "      <td>0.0</td>\n",
       "      <td>0.0</td>\n",
       "    </tr>\n",
       "    <tr>\n",
       "      <th>382843</th>\n",
       "      <td>0.0</td>\n",
       "      <td>0.0</td>\n",
       "      <td>0.0</td>\n",
       "      <td>0.0</td>\n",
       "      <td>0.0</td>\n",
       "      <td>0.0</td>\n",
       "      <td>0.0</td>\n",
       "      <td>0.0</td>\n",
       "      <td>0.0</td>\n",
       "      <td>0.0</td>\n",
       "      <td>...</td>\n",
       "      <td>0.0</td>\n",
       "      <td>0.0</td>\n",
       "      <td>0.0</td>\n",
       "      <td>0.0</td>\n",
       "      <td>0.0</td>\n",
       "      <td>0.0</td>\n",
       "      <td>0.0</td>\n",
       "      <td>0.0</td>\n",
       "      <td>0.0</td>\n",
       "      <td>0.0</td>\n",
       "    </tr>\n",
       "    <tr>\n",
       "      <th>382844</th>\n",
       "      <td>0.0</td>\n",
       "      <td>0.0</td>\n",
       "      <td>0.0</td>\n",
       "      <td>0.0</td>\n",
       "      <td>0.0</td>\n",
       "      <td>0.0</td>\n",
       "      <td>0.0</td>\n",
       "      <td>0.0</td>\n",
       "      <td>0.0</td>\n",
       "      <td>0.0</td>\n",
       "      <td>...</td>\n",
       "      <td>0.0</td>\n",
       "      <td>0.0</td>\n",
       "      <td>0.0</td>\n",
       "      <td>0.0</td>\n",
       "      <td>0.0</td>\n",
       "      <td>0.0</td>\n",
       "      <td>0.0</td>\n",
       "      <td>0.0</td>\n",
       "      <td>0.0</td>\n",
       "      <td>0.0</td>\n",
       "    </tr>\n",
       "    <tr>\n",
       "      <th>382845</th>\n",
       "      <td>0.0</td>\n",
       "      <td>0.0</td>\n",
       "      <td>0.0</td>\n",
       "      <td>0.0</td>\n",
       "      <td>0.0</td>\n",
       "      <td>0.0</td>\n",
       "      <td>0.0</td>\n",
       "      <td>0.0</td>\n",
       "      <td>0.0</td>\n",
       "      <td>0.0</td>\n",
       "      <td>...</td>\n",
       "      <td>0.0</td>\n",
       "      <td>0.0</td>\n",
       "      <td>0.0</td>\n",
       "      <td>0.0</td>\n",
       "      <td>0.0</td>\n",
       "      <td>0.0</td>\n",
       "      <td>0.0</td>\n",
       "      <td>0.0</td>\n",
       "      <td>0.0</td>\n",
       "      <td>0.0</td>\n",
       "    </tr>\n",
       "  </tbody>\n",
       "</table>\n",
       "<p>382846 rows × 109698 columns</p>\n",
       "</div>"
      ],
      "text/plain": [
       "         00  000  0000  00000027  000075  0007  000c  000k  000km  000s  ...  \\\n",
       "0       0.0  0.0   0.0       0.0     0.0   0.0   0.0   0.0    0.0   0.0  ...   \n",
       "1       0.0  0.0   0.0       0.0     0.0   0.0   0.0   0.0    0.0   0.0  ...   \n",
       "2       0.0  0.0   0.0       0.0     0.0   0.0   0.0   0.0    0.0   0.0  ...   \n",
       "3       0.0  0.0   0.0       0.0     0.0   0.0   0.0   0.0    0.0   0.0  ...   \n",
       "4       0.0  0.0   0.0       0.0     0.0   0.0   0.0   0.0    0.0   0.0  ...   \n",
       "...     ...  ...   ...       ...     ...   ...   ...   ...    ...   ...  ...   \n",
       "382841  0.0  0.0   0.0       0.0     0.0   0.0   0.0   0.0    0.0   0.0  ...   \n",
       "382842  0.0  0.0   0.0       0.0     0.0   0.0   0.0   0.0    0.0   0.0  ...   \n",
       "382843  0.0  0.0   0.0       0.0     0.0   0.0   0.0   0.0    0.0   0.0  ...   \n",
       "382844  0.0  0.0   0.0       0.0     0.0   0.0   0.0   0.0    0.0   0.0  ...   \n",
       "382845  0.0  0.0   0.0       0.0     0.0   0.0   0.0   0.0    0.0   0.0  ...   \n",
       "\n",
       "         ｏｆ  ｏｖｅｒｈｅａｄ  ｐｏｉｎｔ  ｒｏｃｋ  ｓｉｄｅ  ｔｈｅ   ｔｏ  ｔｗｏ  ｗｈｅｒｅ  ｗｏｒｄｓ  \n",
       "0       0.0       0.0    0.0   0.0   0.0  0.0  0.0  0.0    0.0    0.0  \n",
       "1       0.0       0.0    0.0   0.0   0.0  0.0  0.0  0.0    0.0    0.0  \n",
       "2       0.0       0.0    0.0   0.0   0.0  0.0  0.0  0.0    0.0    0.0  \n",
       "3       0.0       0.0    0.0   0.0   0.0  0.0  0.0  0.0    0.0    0.0  \n",
       "4       0.0       0.0    0.0   0.0   0.0  0.0  0.0  0.0    0.0    0.0  \n",
       "...     ...       ...    ...   ...   ...  ...  ...  ...    ...    ...  \n",
       "382841  0.0       0.0    0.0   0.0   0.0  0.0  0.0  0.0    0.0    0.0  \n",
       "382842  0.0       0.0    0.0   0.0   0.0  0.0  0.0  0.0    0.0    0.0  \n",
       "382843  0.0       0.0    0.0   0.0   0.0  0.0  0.0  0.0    0.0    0.0  \n",
       "382844  0.0       0.0    0.0   0.0   0.0  0.0  0.0  0.0    0.0    0.0  \n",
       "382845  0.0       0.0    0.0   0.0   0.0  0.0  0.0  0.0    0.0    0.0  \n",
       "\n",
       "[382846 rows x 109698 columns]"
      ]
     },
     "execution_count": 16,
     "metadata": {},
     "output_type": "execute_result"
    }
   ],
   "source": [
    "df_x_train = pd.DataFrame.sparse.from_spmatrix(X_train_dtm,columns=tfidf_1.get_feature_names_out())\n",
    "df_x_train"
   ]
  },
  {
   "cell_type": "code",
   "execution_count": 17,
   "id": "971f6cb0",
   "metadata": {},
   "outputs": [
    {
     "data": {
      "text/plain": [
       "00           0.000000\n",
       "piperies     0.000000\n",
       "piperia      0.000000\n",
       "piperade     0.000000\n",
       "piper        0.000000\n",
       "               ...   \n",
       "fix          0.207838\n",
       "blueberry    0.221858\n",
       "your         0.224024\n",
       "pancake      0.225394\n",
       "mum          0.257732\n",
       "Name: 0, Length: 109698, dtype: float64"
      ]
     },
     "execution_count": 17,
     "metadata": {},
     "output_type": "execute_result"
    }
   ],
   "source": [
    "vec1=df_x_train.head(1).sparse.to_dense().iloc[0]\n",
    "vec1.sort_values()"
   ]
  },
  {
   "cell_type": "code",
   "execution_count": 18,
   "id": "8aba1808",
   "metadata": {},
   "outputs": [
    {
     "data": {
      "text/plain": [
       "00          0.000000\n",
       "pipi        0.000000\n",
       "pipette     0.000000\n",
       "pipes       0.000000\n",
       "pipers      0.000000\n",
       "              ...   \n",
       "cocktail    0.208373\n",
       "greeted     0.225292\n",
       "by          0.236344\n",
       "was         0.286036\n",
       "who         0.305903\n",
       "Name: 1, Length: 109698, dtype: float64"
      ]
     },
     "execution_count": 18,
     "metadata": {},
     "output_type": "execute_result"
    }
   ],
   "source": [
    "vec2 = df_x_train.head(2).sparse.to_dense().iloc[1]\n",
    "vec2.sort_values()"
   ]
  },
  {
   "cell_type": "markdown",
   "id": "d87230f4",
   "metadata": {},
   "source": [
    "## 3. Building and evaluating  a model"
   ]
  },
  {
   "cell_type": "code",
   "execution_count": 19,
   "id": "ff0085a7",
   "metadata": {},
   "outputs": [],
   "source": [
    "# import and instantiate a Logistic regressional\n",
    "from sklearn.linear_model import LogisticRegression\n",
    "logreg = LogisticRegression(max_iter=1000)"
   ]
  },
  {
   "cell_type": "code",
   "execution_count": 20,
   "id": "78987f8d",
   "metadata": {
    "scrolled": true
   },
   "outputs": [
    {
     "data": {
      "text/html": [
       "<style>#sk-container-id-1 {color: black;background-color: white;}#sk-container-id-1 pre{padding: 0;}#sk-container-id-1 div.sk-toggleable {background-color: white;}#sk-container-id-1 label.sk-toggleable__label {cursor: pointer;display: block;width: 100%;margin-bottom: 0;padding: 0.3em;box-sizing: border-box;text-align: center;}#sk-container-id-1 label.sk-toggleable__label-arrow:before {content: \"▸\";float: left;margin-right: 0.25em;color: #696969;}#sk-container-id-1 label.sk-toggleable__label-arrow:hover:before {color: black;}#sk-container-id-1 div.sk-estimator:hover label.sk-toggleable__label-arrow:before {color: black;}#sk-container-id-1 div.sk-toggleable__content {max-height: 0;max-width: 0;overflow: hidden;text-align: left;background-color: #f0f8ff;}#sk-container-id-1 div.sk-toggleable__content pre {margin: 0.2em;color: black;border-radius: 0.25em;background-color: #f0f8ff;}#sk-container-id-1 input.sk-toggleable__control:checked~div.sk-toggleable__content {max-height: 200px;max-width: 100%;overflow: auto;}#sk-container-id-1 input.sk-toggleable__control:checked~label.sk-toggleable__label-arrow:before {content: \"▾\";}#sk-container-id-1 div.sk-estimator input.sk-toggleable__control:checked~label.sk-toggleable__label {background-color: #d4ebff;}#sk-container-id-1 div.sk-label input.sk-toggleable__control:checked~label.sk-toggleable__label {background-color: #d4ebff;}#sk-container-id-1 input.sk-hidden--visually {border: 0;clip: rect(1px 1px 1px 1px);clip: rect(1px, 1px, 1px, 1px);height: 1px;margin: -1px;overflow: hidden;padding: 0;position: absolute;width: 1px;}#sk-container-id-1 div.sk-estimator {font-family: monospace;background-color: #f0f8ff;border: 1px dotted black;border-radius: 0.25em;box-sizing: border-box;margin-bottom: 0.5em;}#sk-container-id-1 div.sk-estimator:hover {background-color: #d4ebff;}#sk-container-id-1 div.sk-parallel-item::after {content: \"\";width: 100%;border-bottom: 1px solid gray;flex-grow: 1;}#sk-container-id-1 div.sk-label:hover label.sk-toggleable__label {background-color: #d4ebff;}#sk-container-id-1 div.sk-serial::before {content: \"\";position: absolute;border-left: 1px solid gray;box-sizing: border-box;top: 0;bottom: 0;left: 50%;z-index: 0;}#sk-container-id-1 div.sk-serial {display: flex;flex-direction: column;align-items: center;background-color: white;padding-right: 0.2em;padding-left: 0.2em;position: relative;}#sk-container-id-1 div.sk-item {position: relative;z-index: 1;}#sk-container-id-1 div.sk-parallel {display: flex;align-items: stretch;justify-content: center;background-color: white;position: relative;}#sk-container-id-1 div.sk-item::before, #sk-container-id-1 div.sk-parallel-item::before {content: \"\";position: absolute;border-left: 1px solid gray;box-sizing: border-box;top: 0;bottom: 0;left: 50%;z-index: -1;}#sk-container-id-1 div.sk-parallel-item {display: flex;flex-direction: column;z-index: 1;position: relative;background-color: white;}#sk-container-id-1 div.sk-parallel-item:first-child::after {align-self: flex-end;width: 50%;}#sk-container-id-1 div.sk-parallel-item:last-child::after {align-self: flex-start;width: 50%;}#sk-container-id-1 div.sk-parallel-item:only-child::after {width: 0;}#sk-container-id-1 div.sk-dashed-wrapped {border: 1px dashed gray;margin: 0 0.4em 0.5em 0.4em;box-sizing: border-box;padding-bottom: 0.4em;background-color: white;}#sk-container-id-1 div.sk-label label {font-family: monospace;font-weight: bold;display: inline-block;line-height: 1.2em;}#sk-container-id-1 div.sk-label-container {text-align: center;}#sk-container-id-1 div.sk-container {/* jupyter's `normalize.less` sets `[hidden] { display: none; }` but bootstrap.min.css set `[hidden] { display: none !important; }` so we also need the `!important` here to be able to override the default hidden behavior on the sphinx rendered scikit-learn.org. See: https://github.com/scikit-learn/scikit-learn/issues/21755 */display: inline-block !important;position: relative;}#sk-container-id-1 div.sk-text-repr-fallback {display: none;}</style><div id=\"sk-container-id-1\" class=\"sk-top-container\"><div class=\"sk-text-repr-fallback\"><pre>LogisticRegression(max_iter=1000)</pre><b>In a Jupyter environment, please rerun this cell to show the HTML representation or trust the notebook. <br />On GitHub, the HTML representation is unable to render, please try loading this page with nbviewer.org.</b></div><div class=\"sk-container\" hidden><div class=\"sk-item\"><div class=\"sk-estimator sk-toggleable\"><input class=\"sk-toggleable__control sk-hidden--visually\" id=\"sk-estimator-id-1\" type=\"checkbox\" checked><label for=\"sk-estimator-id-1\" class=\"sk-toggleable__label sk-toggleable__label-arrow\">LogisticRegression</label><div class=\"sk-toggleable__content\"><pre>LogisticRegression(max_iter=1000)</pre></div></div></div></div></div>"
      ],
      "text/plain": [
       "LogisticRegression(max_iter=1000)"
      ]
     },
     "execution_count": 20,
     "metadata": {},
     "output_type": "execute_result"
    }
   ],
   "source": [
    "# train the model using X_train_dtm\n",
    "logreg.fit(X_train_dtm, y_train)"
   ]
  },
  {
   "cell_type": "code",
   "execution_count": 21,
   "id": "97658a43",
   "metadata": {},
   "outputs": [],
   "source": [
    "y_train_pred = logreg.predict(X_train_dtm)"
   ]
  },
  {
   "cell_type": "code",
   "execution_count": 22,
   "id": "e6d8b2f1",
   "metadata": {},
   "outputs": [
    {
     "data": {
      "text/plain": [
       "0.7150002873217952"
      ]
     },
     "execution_count": 22,
     "metadata": {},
     "output_type": "execute_result"
    }
   ],
   "source": [
    "# getting training data's accuracy score\n",
    "from sklearn import metrics\n",
    "metrics.accuracy_score(y_train, y_train_pred)"
   ]
  },
  {
   "cell_type": "code",
   "execution_count": 23,
   "id": "a7d56163",
   "metadata": {},
   "outputs": [],
   "source": [
    "# make class predictions for X_test_dtm\n",
    "y_pred = logreg.predict(X_test_dtm)"
   ]
  },
  {
   "cell_type": "code",
   "execution_count": 24,
   "id": "b92ed465",
   "metadata": {},
   "outputs": [
    {
     "name": "stdout",
     "output_type": "stream",
     "text": [
      "[[ 2264   841   600   124   177]\n",
      " [  934  1369  2124   412   213]\n",
      " [  407   824  6976  4320  1070]\n",
      " [   85    92  2373 20812 17048]\n",
      " [   31    23   327 10149 54021]]\n"
     ]
    }
   ],
   "source": [
    "# print the confusion matrix\n",
    "print(metrics.confusion_matrix(y_test, y_pred))"
   ]
  },
  {
   "cell_type": "code",
   "execution_count": 25,
   "id": "c81d83fb",
   "metadata": {},
   "outputs": [
    {
     "name": "stdout",
     "output_type": "stream",
     "text": [
      "              precision    recall  f1-score   support\n",
      "\n",
      "           1       0.61      0.57      0.59      4006\n",
      "           2       0.43      0.27      0.33      5052\n",
      "           3       0.56      0.51      0.54     13597\n",
      "           4       0.58      0.52      0.55     40410\n",
      "           5       0.74      0.84      0.79     64551\n",
      "\n",
      "    accuracy                           0.67    127616\n",
      "   macro avg       0.59      0.54      0.56    127616\n",
      "weighted avg       0.66      0.67      0.66    127616\n",
      "\n"
     ]
    }
   ],
   "source": [
    "# print the classification report\n",
    "print(metrics.classification_report(y_test,y_pred))"
   ]
  },
  {
   "cell_type": "markdown",
   "id": "2ed10518",
   "metadata": {},
   "source": [
    "## 4. Hyperparameter tuning"
   ]
  },
  {
   "cell_type": "code",
   "execution_count": 26,
   "id": "efc3ac2a",
   "metadata": {},
   "outputs": [],
   "source": [
    "# 2. Using stop_words = 'english' as a hyperparameter \n",
    "tfidf_2 = TfidfVectorizer(stop_words='english')\n",
    "X_train_2 =tfidf_2.fit_transform(X_train)\n",
    "X_test_2 = tfidf_2.transform(X_test)"
   ]
  },
  {
   "cell_type": "code",
   "execution_count": 27,
   "id": "c5196908",
   "metadata": {},
   "outputs": [],
   "source": [
    "logreg_2 = LogisticRegression(max_iter=1000)\n",
    "y_pred_2=logreg_2.fit(X_train_2, y_train).predict(X_test_2)\n",
    "y_train_pred2 = logreg_2.predict(X_train_2)"
   ]
  },
  {
   "cell_type": "code",
   "execution_count": 28,
   "id": "8029174b",
   "metadata": {},
   "outputs": [],
   "source": [
    "# 3. Usinng max_df = 0.50 \"ignore terms that appear in more than 50% of the documents\"\n",
    "tfidf_3 = TfidfVectorizer(max_df = 0.50)\n",
    "X_train_3 = tfidf_3.fit_transform(X_train)\n",
    "X_test_3 = tfidf_3.transform(X_test)"
   ]
  },
  {
   "cell_type": "code",
   "execution_count": 29,
   "id": "d6cc3fec",
   "metadata": {},
   "outputs": [],
   "source": [
    "logreg_3 = LogisticRegression(max_iter=1000)\n",
    "y_pred_3 = logreg_3.fit(X_train_3, y_train).predict(X_test_3)\n",
    "y_train_pred3 = logreg_3.predict(X_train_3)"
   ]
  },
  {
   "cell_type": "code",
   "execution_count": 30,
   "id": "8a815b15",
   "metadata": {},
   "outputs": [],
   "source": [
    "# Using min_df = 5 \"ignore terms that appear in less than 25% of the documents\"\n",
    "tfidf_4 = TfidfVectorizer(min_df=5)\n",
    "X_train_4 = tfidf_4.fit_transform(X_train)\n",
    "X_test_4 = tfidf_4.transform(X_test)"
   ]
  },
  {
   "cell_type": "code",
   "execution_count": 31,
   "id": "5476371d",
   "metadata": {},
   "outputs": [],
   "source": [
    "logreg_4 = LogisticRegression(max_iter=1000)\n",
    "y_pred_4 = logreg_4.fit(X_train_4, y_train).predict(X_test_4)\n",
    "y_train_pred4 = logreg_4.predict(X_train_4)"
   ]
  },
  {
   "cell_type": "code",
   "execution_count": null,
   "id": "fd2d12da",
   "metadata": {},
   "outputs": [],
   "source": []
  },
  {
   "cell_type": "code",
   "execution_count": null,
   "id": "f5c7d94e",
   "metadata": {},
   "outputs": [],
   "source": []
  },
  {
   "cell_type": "code",
   "execution_count": 32,
   "id": "cff3dfd1",
   "metadata": {},
   "outputs": [],
   "source": [
    "# Creating hyperparameter table\n",
    "hyperparameter_table = []\n",
    "def trip_adviser_model(model,y_test, y_pred, y_train, y_train_pred,  tfidf):\n",
    "\n",
    "    \n",
    "    hyper_paramteres = {}\n",
    "    hyper_paramteres['model'] = str(type(model))\n",
    "    hyper_paramteres['max_df'] =tfidf.max_df\n",
    "    hyper_paramteres['min_df'] = tfidf.min_df\n",
    "    hyper_paramteres['stop_words'] = tfidf.stop_words\n",
    "    hyper_paramteres['Training accuracy score'] = metrics.accuracy_score(y_train, y_train_pred)\n",
    "    hyper_paramteres['Testing accuracy score'] = metrics.accuracy_score(y_test, y_pred)\n",
    "    hyper_paramteres['F1'] = metrics.f1_score(y_test, y_pred, average = 'weighted')\n",
    "    hyperparameter_table.append(hyper_paramteres)\n",
    "    return pd.DataFrame(hyperparameter_table)"
   ]
  },
  {
   "cell_type": "code",
   "execution_count": 33,
   "id": "6066a935",
   "metadata": {},
   "outputs": [
    {
     "data": {
      "text/html": [
       "<div>\n",
       "<style scoped>\n",
       "    .dataframe tbody tr th:only-of-type {\n",
       "        vertical-align: middle;\n",
       "    }\n",
       "\n",
       "    .dataframe tbody tr th {\n",
       "        vertical-align: top;\n",
       "    }\n",
       "\n",
       "    .dataframe thead th {\n",
       "        text-align: right;\n",
       "    }\n",
       "</style>\n",
       "<table border=\"1\" class=\"dataframe\">\n",
       "  <thead>\n",
       "    <tr style=\"text-align: right;\">\n",
       "      <th></th>\n",
       "      <th>model</th>\n",
       "      <th>max_df</th>\n",
       "      <th>min_df</th>\n",
       "      <th>stop_words</th>\n",
       "      <th>Training accuracy score</th>\n",
       "      <th>Testing accuracy score</th>\n",
       "      <th>F1</th>\n",
       "    </tr>\n",
       "  </thead>\n",
       "  <tbody>\n",
       "    <tr>\n",
       "      <th>0</th>\n",
       "      <td>&lt;class 'sklearn.linear_model._logistic.Logisti...</td>\n",
       "      <td>1.0</td>\n",
       "      <td>1</td>\n",
       "      <td>None</td>\n",
       "      <td>0.715</td>\n",
       "      <td>0.669524</td>\n",
       "      <td>0.660375</td>\n",
       "    </tr>\n",
       "  </tbody>\n",
       "</table>\n",
       "</div>"
      ],
      "text/plain": [
       "                                               model  max_df  min_df  \\\n",
       "0  <class 'sklearn.linear_model._logistic.Logisti...     1.0       1   \n",
       "\n",
       "  stop_words  Training accuracy score  Testing accuracy score        F1  \n",
       "0       None                    0.715                0.669524  0.660375  "
      ]
     },
     "execution_count": 33,
     "metadata": {},
     "output_type": "execute_result"
    }
   ],
   "source": [
    "trip_adviser_model(logreg, y_test, y_pred, y_train, y_train_pred, tfidf_1)"
   ]
  },
  {
   "cell_type": "code",
   "execution_count": 34,
   "id": "662cfaaa",
   "metadata": {},
   "outputs": [
    {
     "data": {
      "text/html": [
       "<div>\n",
       "<style scoped>\n",
       "    .dataframe tbody tr th:only-of-type {\n",
       "        vertical-align: middle;\n",
       "    }\n",
       "\n",
       "    .dataframe tbody tr th {\n",
       "        vertical-align: top;\n",
       "    }\n",
       "\n",
       "    .dataframe thead th {\n",
       "        text-align: right;\n",
       "    }\n",
       "</style>\n",
       "<table border=\"1\" class=\"dataframe\">\n",
       "  <thead>\n",
       "    <tr style=\"text-align: right;\">\n",
       "      <th></th>\n",
       "      <th>model</th>\n",
       "      <th>max_df</th>\n",
       "      <th>min_df</th>\n",
       "      <th>stop_words</th>\n",
       "      <th>Training accuracy score</th>\n",
       "      <th>Testing accuracy score</th>\n",
       "      <th>F1</th>\n",
       "    </tr>\n",
       "  </thead>\n",
       "  <tbody>\n",
       "    <tr>\n",
       "      <th>0</th>\n",
       "      <td>&lt;class 'sklearn.linear_model._logistic.Logisti...</td>\n",
       "      <td>1.0</td>\n",
       "      <td>1</td>\n",
       "      <td>None</td>\n",
       "      <td>0.715000</td>\n",
       "      <td>0.669524</td>\n",
       "      <td>0.660375</td>\n",
       "    </tr>\n",
       "    <tr>\n",
       "      <th>1</th>\n",
       "      <td>&lt;class 'sklearn.linear_model._logistic.Logisti...</td>\n",
       "      <td>1.0</td>\n",
       "      <td>1</td>\n",
       "      <td>english</td>\n",
       "      <td>0.708609</td>\n",
       "      <td>0.657135</td>\n",
       "      <td>0.646279</td>\n",
       "    </tr>\n",
       "  </tbody>\n",
       "</table>\n",
       "</div>"
      ],
      "text/plain": [
       "                                               model  max_df  min_df  \\\n",
       "0  <class 'sklearn.linear_model._logistic.Logisti...     1.0       1   \n",
       "1  <class 'sklearn.linear_model._logistic.Logisti...     1.0       1   \n",
       "\n",
       "  stop_words  Training accuracy score  Testing accuracy score        F1  \n",
       "0       None                 0.715000                0.669524  0.660375  \n",
       "1    english                 0.708609                0.657135  0.646279  "
      ]
     },
     "execution_count": 34,
     "metadata": {},
     "output_type": "execute_result"
    }
   ],
   "source": [
    "trip_adviser_model(logreg_2, y_test, y_pred_2,y_train, y_train_pred2, tfidf_2)"
   ]
  },
  {
   "cell_type": "code",
   "execution_count": 35,
   "id": "b0f780ea",
   "metadata": {},
   "outputs": [
    {
     "data": {
      "text/html": [
       "<div>\n",
       "<style scoped>\n",
       "    .dataframe tbody tr th:only-of-type {\n",
       "        vertical-align: middle;\n",
       "    }\n",
       "\n",
       "    .dataframe tbody tr th {\n",
       "        vertical-align: top;\n",
       "    }\n",
       "\n",
       "    .dataframe thead th {\n",
       "        text-align: right;\n",
       "    }\n",
       "</style>\n",
       "<table border=\"1\" class=\"dataframe\">\n",
       "  <thead>\n",
       "    <tr style=\"text-align: right;\">\n",
       "      <th></th>\n",
       "      <th>model</th>\n",
       "      <th>max_df</th>\n",
       "      <th>min_df</th>\n",
       "      <th>stop_words</th>\n",
       "      <th>Training accuracy score</th>\n",
       "      <th>Testing accuracy score</th>\n",
       "      <th>F1</th>\n",
       "    </tr>\n",
       "  </thead>\n",
       "  <tbody>\n",
       "    <tr>\n",
       "      <th>0</th>\n",
       "      <td>&lt;class 'sklearn.linear_model._logistic.Logisti...</td>\n",
       "      <td>1.0</td>\n",
       "      <td>1</td>\n",
       "      <td>None</td>\n",
       "      <td>0.715000</td>\n",
       "      <td>0.669524</td>\n",
       "      <td>0.660375</td>\n",
       "    </tr>\n",
       "    <tr>\n",
       "      <th>1</th>\n",
       "      <td>&lt;class 'sklearn.linear_model._logistic.Logisti...</td>\n",
       "      <td>1.0</td>\n",
       "      <td>1</td>\n",
       "      <td>english</td>\n",
       "      <td>0.708609</td>\n",
       "      <td>0.657135</td>\n",
       "      <td>0.646279</td>\n",
       "    </tr>\n",
       "    <tr>\n",
       "      <th>2</th>\n",
       "      <td>&lt;class 'sklearn.linear_model._logistic.Logisti...</td>\n",
       "      <td>0.5</td>\n",
       "      <td>1</td>\n",
       "      <td>None</td>\n",
       "      <td>0.715076</td>\n",
       "      <td>0.668357</td>\n",
       "      <td>0.659071</td>\n",
       "    </tr>\n",
       "  </tbody>\n",
       "</table>\n",
       "</div>"
      ],
      "text/plain": [
       "                                               model  max_df  min_df  \\\n",
       "0  <class 'sklearn.linear_model._logistic.Logisti...     1.0       1   \n",
       "1  <class 'sklearn.linear_model._logistic.Logisti...     1.0       1   \n",
       "2  <class 'sklearn.linear_model._logistic.Logisti...     0.5       1   \n",
       "\n",
       "  stop_words  Training accuracy score  Testing accuracy score        F1  \n",
       "0       None                 0.715000                0.669524  0.660375  \n",
       "1    english                 0.708609                0.657135  0.646279  \n",
       "2       None                 0.715076                0.668357  0.659071  "
      ]
     },
     "execution_count": 35,
     "metadata": {},
     "output_type": "execute_result"
    }
   ],
   "source": [
    "trip_adviser_model(logreg_3, y_test, y_pred_3,y_train, y_train_pred3, tfidf_3)"
   ]
  },
  {
   "cell_type": "code",
   "execution_count": 36,
   "id": "9bd68df3",
   "metadata": {},
   "outputs": [
    {
     "data": {
      "text/html": [
       "<div>\n",
       "<style scoped>\n",
       "    .dataframe tbody tr th:only-of-type {\n",
       "        vertical-align: middle;\n",
       "    }\n",
       "\n",
       "    .dataframe tbody tr th {\n",
       "        vertical-align: top;\n",
       "    }\n",
       "\n",
       "    .dataframe thead th {\n",
       "        text-align: right;\n",
       "    }\n",
       "</style>\n",
       "<table border=\"1\" class=\"dataframe\">\n",
       "  <thead>\n",
       "    <tr style=\"text-align: right;\">\n",
       "      <th></th>\n",
       "      <th>model</th>\n",
       "      <th>max_df</th>\n",
       "      <th>min_df</th>\n",
       "      <th>stop_words</th>\n",
       "      <th>Training accuracy score</th>\n",
       "      <th>Testing accuracy score</th>\n",
       "      <th>F1</th>\n",
       "    </tr>\n",
       "  </thead>\n",
       "  <tbody>\n",
       "    <tr>\n",
       "      <th>0</th>\n",
       "      <td>&lt;class 'sklearn.linear_model._logistic.Logisti...</td>\n",
       "      <td>1.0</td>\n",
       "      <td>1</td>\n",
       "      <td>None</td>\n",
       "      <td>0.715000</td>\n",
       "      <td>0.669524</td>\n",
       "      <td>0.660375</td>\n",
       "    </tr>\n",
       "    <tr>\n",
       "      <th>1</th>\n",
       "      <td>&lt;class 'sklearn.linear_model._logistic.Logisti...</td>\n",
       "      <td>1.0</td>\n",
       "      <td>1</td>\n",
       "      <td>english</td>\n",
       "      <td>0.708609</td>\n",
       "      <td>0.657135</td>\n",
       "      <td>0.646279</td>\n",
       "    </tr>\n",
       "    <tr>\n",
       "      <th>2</th>\n",
       "      <td>&lt;class 'sklearn.linear_model._logistic.Logisti...</td>\n",
       "      <td>0.5</td>\n",
       "      <td>1</td>\n",
       "      <td>None</td>\n",
       "      <td>0.715076</td>\n",
       "      <td>0.668357</td>\n",
       "      <td>0.659071</td>\n",
       "    </tr>\n",
       "    <tr>\n",
       "      <th>3</th>\n",
       "      <td>&lt;class 'sklearn.linear_model._logistic.Logisti...</td>\n",
       "      <td>1.0</td>\n",
       "      <td>5</td>\n",
       "      <td>None</td>\n",
       "      <td>0.707914</td>\n",
       "      <td>0.669414</td>\n",
       "      <td>0.660260</td>\n",
       "    </tr>\n",
       "  </tbody>\n",
       "</table>\n",
       "</div>"
      ],
      "text/plain": [
       "                                               model  max_df  min_df  \\\n",
       "0  <class 'sklearn.linear_model._logistic.Logisti...     1.0       1   \n",
       "1  <class 'sklearn.linear_model._logistic.Logisti...     1.0       1   \n",
       "2  <class 'sklearn.linear_model._logistic.Logisti...     0.5       1   \n",
       "3  <class 'sklearn.linear_model._logistic.Logisti...     1.0       5   \n",
       "\n",
       "  stop_words  Training accuracy score  Testing accuracy score        F1  \n",
       "0       None                 0.715000                0.669524  0.660375  \n",
       "1    english                 0.708609                0.657135  0.646279  \n",
       "2       None                 0.715076                0.668357  0.659071  \n",
       "3       None                 0.707914                0.669414  0.660260  "
      ]
     },
     "execution_count": 36,
     "metadata": {},
     "output_type": "execute_result"
    }
   ],
   "source": [
    "trip_adviser_model(logreg_4, y_test, y_pred_4,y_train, y_train_pred4, tfidf_4)"
   ]
  },
  {
   "cell_type": "markdown",
   "id": "98a10d1f",
   "metadata": {},
   "source": [
    "## 5. Comparing models"
   ]
  },
  {
   "cell_type": "markdown",
   "id": "f80c9fd8",
   "metadata": {},
   "source": [
    "#### 4.1 First model"
   ]
  },
  {
   "cell_type": "code",
   "execution_count": 37,
   "id": "53f545ef",
   "metadata": {},
   "outputs": [],
   "source": [
    "# import and run a Multinomial Naive Bayes model\n",
    "from sklearn.naive_bayes import MultinomialNB\n",
    "nb = MultinomialNB()"
   ]
  },
  {
   "cell_type": "code",
   "execution_count": 38,
   "id": "a58f8801",
   "metadata": {
    "scrolled": false
   },
   "outputs": [
    {
     "data": {
      "text/html": [
       "<style>#sk-container-id-2 {color: black;background-color: white;}#sk-container-id-2 pre{padding: 0;}#sk-container-id-2 div.sk-toggleable {background-color: white;}#sk-container-id-2 label.sk-toggleable__label {cursor: pointer;display: block;width: 100%;margin-bottom: 0;padding: 0.3em;box-sizing: border-box;text-align: center;}#sk-container-id-2 label.sk-toggleable__label-arrow:before {content: \"▸\";float: left;margin-right: 0.25em;color: #696969;}#sk-container-id-2 label.sk-toggleable__label-arrow:hover:before {color: black;}#sk-container-id-2 div.sk-estimator:hover label.sk-toggleable__label-arrow:before {color: black;}#sk-container-id-2 div.sk-toggleable__content {max-height: 0;max-width: 0;overflow: hidden;text-align: left;background-color: #f0f8ff;}#sk-container-id-2 div.sk-toggleable__content pre {margin: 0.2em;color: black;border-radius: 0.25em;background-color: #f0f8ff;}#sk-container-id-2 input.sk-toggleable__control:checked~div.sk-toggleable__content {max-height: 200px;max-width: 100%;overflow: auto;}#sk-container-id-2 input.sk-toggleable__control:checked~label.sk-toggleable__label-arrow:before {content: \"▾\";}#sk-container-id-2 div.sk-estimator input.sk-toggleable__control:checked~label.sk-toggleable__label {background-color: #d4ebff;}#sk-container-id-2 div.sk-label input.sk-toggleable__control:checked~label.sk-toggleable__label {background-color: #d4ebff;}#sk-container-id-2 input.sk-hidden--visually {border: 0;clip: rect(1px 1px 1px 1px);clip: rect(1px, 1px, 1px, 1px);height: 1px;margin: -1px;overflow: hidden;padding: 0;position: absolute;width: 1px;}#sk-container-id-2 div.sk-estimator {font-family: monospace;background-color: #f0f8ff;border: 1px dotted black;border-radius: 0.25em;box-sizing: border-box;margin-bottom: 0.5em;}#sk-container-id-2 div.sk-estimator:hover {background-color: #d4ebff;}#sk-container-id-2 div.sk-parallel-item::after {content: \"\";width: 100%;border-bottom: 1px solid gray;flex-grow: 1;}#sk-container-id-2 div.sk-label:hover label.sk-toggleable__label {background-color: #d4ebff;}#sk-container-id-2 div.sk-serial::before {content: \"\";position: absolute;border-left: 1px solid gray;box-sizing: border-box;top: 0;bottom: 0;left: 50%;z-index: 0;}#sk-container-id-2 div.sk-serial {display: flex;flex-direction: column;align-items: center;background-color: white;padding-right: 0.2em;padding-left: 0.2em;position: relative;}#sk-container-id-2 div.sk-item {position: relative;z-index: 1;}#sk-container-id-2 div.sk-parallel {display: flex;align-items: stretch;justify-content: center;background-color: white;position: relative;}#sk-container-id-2 div.sk-item::before, #sk-container-id-2 div.sk-parallel-item::before {content: \"\";position: absolute;border-left: 1px solid gray;box-sizing: border-box;top: 0;bottom: 0;left: 50%;z-index: -1;}#sk-container-id-2 div.sk-parallel-item {display: flex;flex-direction: column;z-index: 1;position: relative;background-color: white;}#sk-container-id-2 div.sk-parallel-item:first-child::after {align-self: flex-end;width: 50%;}#sk-container-id-2 div.sk-parallel-item:last-child::after {align-self: flex-start;width: 50%;}#sk-container-id-2 div.sk-parallel-item:only-child::after {width: 0;}#sk-container-id-2 div.sk-dashed-wrapped {border: 1px dashed gray;margin: 0 0.4em 0.5em 0.4em;box-sizing: border-box;padding-bottom: 0.4em;background-color: white;}#sk-container-id-2 div.sk-label label {font-family: monospace;font-weight: bold;display: inline-block;line-height: 1.2em;}#sk-container-id-2 div.sk-label-container {text-align: center;}#sk-container-id-2 div.sk-container {/* jupyter's `normalize.less` sets `[hidden] { display: none; }` but bootstrap.min.css set `[hidden] { display: none !important; }` so we also need the `!important` here to be able to override the default hidden behavior on the sphinx rendered scikit-learn.org. See: https://github.com/scikit-learn/scikit-learn/issues/21755 */display: inline-block !important;position: relative;}#sk-container-id-2 div.sk-text-repr-fallback {display: none;}</style><div id=\"sk-container-id-2\" class=\"sk-top-container\"><div class=\"sk-text-repr-fallback\"><pre>MultinomialNB()</pre><b>In a Jupyter environment, please rerun this cell to show the HTML representation or trust the notebook. <br />On GitHub, the HTML representation is unable to render, please try loading this page with nbviewer.org.</b></div><div class=\"sk-container\" hidden><div class=\"sk-item\"><div class=\"sk-estimator sk-toggleable\"><input class=\"sk-toggleable__control sk-hidden--visually\" id=\"sk-estimator-id-2\" type=\"checkbox\" checked><label for=\"sk-estimator-id-2\" class=\"sk-toggleable__label sk-toggleable__label-arrow\">MultinomialNB</label><div class=\"sk-toggleable__content\"><pre>MultinomialNB()</pre></div></div></div></div></div>"
      ],
      "text/plain": [
       "MultinomialNB()"
      ]
     },
     "execution_count": 38,
     "metadata": {},
     "output_type": "execute_result"
    }
   ],
   "source": [
    "# train the model using X_train_dtm\n",
    "nb.fit(X_train_dtm,y_train)"
   ]
  },
  {
   "cell_type": "code",
   "execution_count": 39,
   "id": "3ab9e9e9",
   "metadata": {},
   "outputs": [],
   "source": [
    "y_pred1 = nb.predict(X_test_dtm)"
   ]
  },
  {
   "cell_type": "code",
   "execution_count": 40,
   "id": "be8c40c8",
   "metadata": {},
   "outputs": [],
   "source": [
    "y_train_pred11 = nb.predict(X_train_dtm)"
   ]
  },
  {
   "cell_type": "markdown",
   "id": "f357d3f2",
   "metadata": {},
   "source": [
    "#### 4.2 Second model"
   ]
  },
  {
   "cell_type": "code",
   "execution_count": 41,
   "id": "5fe7e06f",
   "metadata": {},
   "outputs": [],
   "source": [
    "from sklearn.linear_model import SGDClassifier\n",
    "sgd_classifier = SGDClassifier()"
   ]
  },
  {
   "cell_type": "code",
   "execution_count": 42,
   "id": "7d0656f5",
   "metadata": {},
   "outputs": [
    {
     "data": {
      "text/html": [
       "<style>#sk-container-id-3 {color: black;background-color: white;}#sk-container-id-3 pre{padding: 0;}#sk-container-id-3 div.sk-toggleable {background-color: white;}#sk-container-id-3 label.sk-toggleable__label {cursor: pointer;display: block;width: 100%;margin-bottom: 0;padding: 0.3em;box-sizing: border-box;text-align: center;}#sk-container-id-3 label.sk-toggleable__label-arrow:before {content: \"▸\";float: left;margin-right: 0.25em;color: #696969;}#sk-container-id-3 label.sk-toggleable__label-arrow:hover:before {color: black;}#sk-container-id-3 div.sk-estimator:hover label.sk-toggleable__label-arrow:before {color: black;}#sk-container-id-3 div.sk-toggleable__content {max-height: 0;max-width: 0;overflow: hidden;text-align: left;background-color: #f0f8ff;}#sk-container-id-3 div.sk-toggleable__content pre {margin: 0.2em;color: black;border-radius: 0.25em;background-color: #f0f8ff;}#sk-container-id-3 input.sk-toggleable__control:checked~div.sk-toggleable__content {max-height: 200px;max-width: 100%;overflow: auto;}#sk-container-id-3 input.sk-toggleable__control:checked~label.sk-toggleable__label-arrow:before {content: \"▾\";}#sk-container-id-3 div.sk-estimator input.sk-toggleable__control:checked~label.sk-toggleable__label {background-color: #d4ebff;}#sk-container-id-3 div.sk-label input.sk-toggleable__control:checked~label.sk-toggleable__label {background-color: #d4ebff;}#sk-container-id-3 input.sk-hidden--visually {border: 0;clip: rect(1px 1px 1px 1px);clip: rect(1px, 1px, 1px, 1px);height: 1px;margin: -1px;overflow: hidden;padding: 0;position: absolute;width: 1px;}#sk-container-id-3 div.sk-estimator {font-family: monospace;background-color: #f0f8ff;border: 1px dotted black;border-radius: 0.25em;box-sizing: border-box;margin-bottom: 0.5em;}#sk-container-id-3 div.sk-estimator:hover {background-color: #d4ebff;}#sk-container-id-3 div.sk-parallel-item::after {content: \"\";width: 100%;border-bottom: 1px solid gray;flex-grow: 1;}#sk-container-id-3 div.sk-label:hover label.sk-toggleable__label {background-color: #d4ebff;}#sk-container-id-3 div.sk-serial::before {content: \"\";position: absolute;border-left: 1px solid gray;box-sizing: border-box;top: 0;bottom: 0;left: 50%;z-index: 0;}#sk-container-id-3 div.sk-serial {display: flex;flex-direction: column;align-items: center;background-color: white;padding-right: 0.2em;padding-left: 0.2em;position: relative;}#sk-container-id-3 div.sk-item {position: relative;z-index: 1;}#sk-container-id-3 div.sk-parallel {display: flex;align-items: stretch;justify-content: center;background-color: white;position: relative;}#sk-container-id-3 div.sk-item::before, #sk-container-id-3 div.sk-parallel-item::before {content: \"\";position: absolute;border-left: 1px solid gray;box-sizing: border-box;top: 0;bottom: 0;left: 50%;z-index: -1;}#sk-container-id-3 div.sk-parallel-item {display: flex;flex-direction: column;z-index: 1;position: relative;background-color: white;}#sk-container-id-3 div.sk-parallel-item:first-child::after {align-self: flex-end;width: 50%;}#sk-container-id-3 div.sk-parallel-item:last-child::after {align-self: flex-start;width: 50%;}#sk-container-id-3 div.sk-parallel-item:only-child::after {width: 0;}#sk-container-id-3 div.sk-dashed-wrapped {border: 1px dashed gray;margin: 0 0.4em 0.5em 0.4em;box-sizing: border-box;padding-bottom: 0.4em;background-color: white;}#sk-container-id-3 div.sk-label label {font-family: monospace;font-weight: bold;display: inline-block;line-height: 1.2em;}#sk-container-id-3 div.sk-label-container {text-align: center;}#sk-container-id-3 div.sk-container {/* jupyter's `normalize.less` sets `[hidden] { display: none; }` but bootstrap.min.css set `[hidden] { display: none !important; }` so we also need the `!important` here to be able to override the default hidden behavior on the sphinx rendered scikit-learn.org. See: https://github.com/scikit-learn/scikit-learn/issues/21755 */display: inline-block !important;position: relative;}#sk-container-id-3 div.sk-text-repr-fallback {display: none;}</style><div id=\"sk-container-id-3\" class=\"sk-top-container\"><div class=\"sk-text-repr-fallback\"><pre>SGDClassifier()</pre><b>In a Jupyter environment, please rerun this cell to show the HTML representation or trust the notebook. <br />On GitHub, the HTML representation is unable to render, please try loading this page with nbviewer.org.</b></div><div class=\"sk-container\" hidden><div class=\"sk-item\"><div class=\"sk-estimator sk-toggleable\"><input class=\"sk-toggleable__control sk-hidden--visually\" id=\"sk-estimator-id-3\" type=\"checkbox\" checked><label for=\"sk-estimator-id-3\" class=\"sk-toggleable__label sk-toggleable__label-arrow\">SGDClassifier</label><div class=\"sk-toggleable__content\"><pre>SGDClassifier()</pre></div></div></div></div></div>"
      ],
      "text/plain": [
       "SGDClassifier()"
      ]
     },
     "execution_count": 42,
     "metadata": {},
     "output_type": "execute_result"
    }
   ],
   "source": [
    "sgd_classifier.fit(X_train_dtm, y_train)"
   ]
  },
  {
   "cell_type": "code",
   "execution_count": 43,
   "id": "e688afa5",
   "metadata": {},
   "outputs": [],
   "source": [
    "y_pred2 = sgd_classifier.predict(X_test_dtm)\n",
    "y_train_pred22 = sgd_classifier.predict(X_train_dtm)"
   ]
  },
  {
   "cell_type": "code",
   "execution_count": 44,
   "id": "b604e382",
   "metadata": {},
   "outputs": [
    {
     "data": {
      "text/html": [
       "<div>\n",
       "<style scoped>\n",
       "    .dataframe tbody tr th:only-of-type {\n",
       "        vertical-align: middle;\n",
       "    }\n",
       "\n",
       "    .dataframe tbody tr th {\n",
       "        vertical-align: top;\n",
       "    }\n",
       "\n",
       "    .dataframe thead th {\n",
       "        text-align: right;\n",
       "    }\n",
       "</style>\n",
       "<table border=\"1\" class=\"dataframe\">\n",
       "  <thead>\n",
       "    <tr style=\"text-align: right;\">\n",
       "      <th></th>\n",
       "      <th>model</th>\n",
       "      <th>max_df</th>\n",
       "      <th>min_df</th>\n",
       "      <th>stop_words</th>\n",
       "      <th>Training accuracy score</th>\n",
       "      <th>Testing accuracy score</th>\n",
       "      <th>F1</th>\n",
       "    </tr>\n",
       "  </thead>\n",
       "  <tbody>\n",
       "    <tr>\n",
       "      <th>0</th>\n",
       "      <td>&lt;class 'sklearn.linear_model._logistic.Logisti...</td>\n",
       "      <td>1.0</td>\n",
       "      <td>1</td>\n",
       "      <td>None</td>\n",
       "      <td>0.715000</td>\n",
       "      <td>0.669524</td>\n",
       "      <td>0.660375</td>\n",
       "    </tr>\n",
       "    <tr>\n",
       "      <th>1</th>\n",
       "      <td>&lt;class 'sklearn.linear_model._logistic.Logisti...</td>\n",
       "      <td>1.0</td>\n",
       "      <td>1</td>\n",
       "      <td>english</td>\n",
       "      <td>0.708609</td>\n",
       "      <td>0.657135</td>\n",
       "      <td>0.646279</td>\n",
       "    </tr>\n",
       "    <tr>\n",
       "      <th>2</th>\n",
       "      <td>&lt;class 'sklearn.linear_model._logistic.Logisti...</td>\n",
       "      <td>0.5</td>\n",
       "      <td>1</td>\n",
       "      <td>None</td>\n",
       "      <td>0.715076</td>\n",
       "      <td>0.668357</td>\n",
       "      <td>0.659071</td>\n",
       "    </tr>\n",
       "    <tr>\n",
       "      <th>3</th>\n",
       "      <td>&lt;class 'sklearn.linear_model._logistic.Logisti...</td>\n",
       "      <td>1.0</td>\n",
       "      <td>5</td>\n",
       "      <td>None</td>\n",
       "      <td>0.707914</td>\n",
       "      <td>0.669414</td>\n",
       "      <td>0.660260</td>\n",
       "    </tr>\n",
       "    <tr>\n",
       "      <th>4</th>\n",
       "      <td>&lt;class 'sklearn.naive_bayes.MultinomialNB'&gt;</td>\n",
       "      <td>1.0</td>\n",
       "      <td>1</td>\n",
       "      <td>None</td>\n",
       "      <td>0.569884</td>\n",
       "      <td>0.549453</td>\n",
       "      <td>0.447217</td>\n",
       "    </tr>\n",
       "  </tbody>\n",
       "</table>\n",
       "</div>"
      ],
      "text/plain": [
       "                                               model  max_df  min_df  \\\n",
       "0  <class 'sklearn.linear_model._logistic.Logisti...     1.0       1   \n",
       "1  <class 'sklearn.linear_model._logistic.Logisti...     1.0       1   \n",
       "2  <class 'sklearn.linear_model._logistic.Logisti...     0.5       1   \n",
       "3  <class 'sklearn.linear_model._logistic.Logisti...     1.0       5   \n",
       "4        <class 'sklearn.naive_bayes.MultinomialNB'>     1.0       1   \n",
       "\n",
       "  stop_words  Training accuracy score  Testing accuracy score        F1  \n",
       "0       None                 0.715000                0.669524  0.660375  \n",
       "1    english                 0.708609                0.657135  0.646279  \n",
       "2       None                 0.715076                0.668357  0.659071  \n",
       "3       None                 0.707914                0.669414  0.660260  \n",
       "4       None                 0.569884                0.549453  0.447217  "
      ]
     },
     "execution_count": 44,
     "metadata": {},
     "output_type": "execute_result"
    }
   ],
   "source": [
    "trip_adviser_model(nb, y_test,y_pred1, y_train, y_train_pred11, tfidf_1)"
   ]
  },
  {
   "cell_type": "code",
   "execution_count": 45,
   "id": "3c53db4e",
   "metadata": {},
   "outputs": [],
   "source": [
    "nlp_results =  trip_adviser_model(sgd_classifier, y_test, y_pred2,y_train, y_train_pred22, tfidf_1)"
   ]
  },
  {
   "cell_type": "code",
   "execution_count": 46,
   "id": "8fcbcf73",
   "metadata": {},
   "outputs": [
    {
     "data": {
      "text/html": [
       "<div>\n",
       "<style scoped>\n",
       "    .dataframe tbody tr th:only-of-type {\n",
       "        vertical-align: middle;\n",
       "    }\n",
       "\n",
       "    .dataframe tbody tr th {\n",
       "        vertical-align: top;\n",
       "    }\n",
       "\n",
       "    .dataframe thead th {\n",
       "        text-align: right;\n",
       "    }\n",
       "</style>\n",
       "<table border=\"1\" class=\"dataframe\">\n",
       "  <thead>\n",
       "    <tr style=\"text-align: right;\">\n",
       "      <th></th>\n",
       "      <th>model</th>\n",
       "      <th>max_df</th>\n",
       "      <th>min_df</th>\n",
       "      <th>stop_words</th>\n",
       "      <th>Training accuracy score</th>\n",
       "      <th>Testing accuracy score</th>\n",
       "      <th>F1</th>\n",
       "    </tr>\n",
       "  </thead>\n",
       "  <tbody>\n",
       "    <tr>\n",
       "      <th>0</th>\n",
       "      <td>&lt;class 'sklearn.linear_model._logistic.Logisti...</td>\n",
       "      <td>1.0</td>\n",
       "      <td>1</td>\n",
       "      <td>None</td>\n",
       "      <td>0.715000</td>\n",
       "      <td>0.669524</td>\n",
       "      <td>0.660375</td>\n",
       "    </tr>\n",
       "    <tr>\n",
       "      <th>1</th>\n",
       "      <td>&lt;class 'sklearn.linear_model._logistic.Logisti...</td>\n",
       "      <td>1.0</td>\n",
       "      <td>1</td>\n",
       "      <td>english</td>\n",
       "      <td>0.708609</td>\n",
       "      <td>0.657135</td>\n",
       "      <td>0.646279</td>\n",
       "    </tr>\n",
       "    <tr>\n",
       "      <th>2</th>\n",
       "      <td>&lt;class 'sklearn.linear_model._logistic.Logisti...</td>\n",
       "      <td>0.5</td>\n",
       "      <td>1</td>\n",
       "      <td>None</td>\n",
       "      <td>0.715076</td>\n",
       "      <td>0.668357</td>\n",
       "      <td>0.659071</td>\n",
       "    </tr>\n",
       "    <tr>\n",
       "      <th>3</th>\n",
       "      <td>&lt;class 'sklearn.linear_model._logistic.Logisti...</td>\n",
       "      <td>1.0</td>\n",
       "      <td>5</td>\n",
       "      <td>None</td>\n",
       "      <td>0.707914</td>\n",
       "      <td>0.669414</td>\n",
       "      <td>0.660260</td>\n",
       "    </tr>\n",
       "    <tr>\n",
       "      <th>4</th>\n",
       "      <td>&lt;class 'sklearn.naive_bayes.MultinomialNB'&gt;</td>\n",
       "      <td>1.0</td>\n",
       "      <td>1</td>\n",
       "      <td>None</td>\n",
       "      <td>0.569884</td>\n",
       "      <td>0.549453</td>\n",
       "      <td>0.447217</td>\n",
       "    </tr>\n",
       "    <tr>\n",
       "      <th>5</th>\n",
       "      <td>&lt;class 'sklearn.linear_model._stochastic_gradi...</td>\n",
       "      <td>1.0</td>\n",
       "      <td>1</td>\n",
       "      <td>None</td>\n",
       "      <td>0.635545</td>\n",
       "      <td>0.629278</td>\n",
       "      <td>0.584332</td>\n",
       "    </tr>\n",
       "  </tbody>\n",
       "</table>\n",
       "</div>"
      ],
      "text/plain": [
       "                                               model  max_df  min_df  \\\n",
       "0  <class 'sklearn.linear_model._logistic.Logisti...     1.0       1   \n",
       "1  <class 'sklearn.linear_model._logistic.Logisti...     1.0       1   \n",
       "2  <class 'sklearn.linear_model._logistic.Logisti...     0.5       1   \n",
       "3  <class 'sklearn.linear_model._logistic.Logisti...     1.0       5   \n",
       "4        <class 'sklearn.naive_bayes.MultinomialNB'>     1.0       1   \n",
       "5  <class 'sklearn.linear_model._stochastic_gradi...     1.0       1   \n",
       "\n",
       "  stop_words  Training accuracy score  Testing accuracy score        F1  \n",
       "0       None                 0.715000                0.669524  0.660375  \n",
       "1    english                 0.708609                0.657135  0.646279  \n",
       "2       None                 0.715076                0.668357  0.659071  \n",
       "3       None                 0.707914                0.669414  0.660260  \n",
       "4       None                 0.569884                0.549453  0.447217  \n",
       "5       None                 0.635545                0.629278  0.584332  "
      ]
     },
     "execution_count": 46,
     "metadata": {},
     "output_type": "execute_result"
    }
   ],
   "source": [
    "nlp_results"
   ]
  },
  {
   "cell_type": "code",
   "execution_count": 47,
   "id": "9d073e7a",
   "metadata": {},
   "outputs": [],
   "source": [
    "nlp_results.to_csv(\"tripadviser_results\")"
   ]
  },
  {
   "cell_type": "code",
   "execution_count": null,
   "id": "1c340f88",
   "metadata": {},
   "outputs": [],
   "source": []
  }
 ],
 "metadata": {
  "kernelspec": {
   "display_name": "Python 3 (ipykernel)",
   "language": "python",
   "name": "python3"
  },
  "language_info": {
   "codemirror_mode": {
    "name": "ipython",
    "version": 3
   },
   "file_extension": ".py",
   "mimetype": "text/x-python",
   "name": "python",
   "nbconvert_exporter": "python",
   "pygments_lexer": "ipython3",
   "version": "3.9.12"
  }
 },
 "nbformat": 4,
 "nbformat_minor": 5
}
